{
  "cells": [
    {
      "cell_type": "markdown",
      "metadata": {
        "id": "view-in-github",
        "colab_type": "text"
      },
      "source": [
        "<a href=\"https://colab.research.google.com/github/ManagementBC/WorkersDetection/blob/main/Detection_and_Monitoring_of_Excessive_Working_Hours_in_Factories.ipynb\" target=\"_parent\"><img src=\"https://colab.research.google.com/assets/colab-badge.svg\" alt=\"Open In Colab\"/></a>"
      ]
    },
    {
      "cell_type": "code",
      "execution_count": null,
      "metadata": {
        "colab": {
          "base_uri": "https://localhost:8080/"
        },
        "id": "Y8cDtxLIBHgQ",
        "outputId": "8dfb4408-377f-4df2-b70d-b480e3a8de59"
      },
      "outputs": [
        {
          "output_type": "stream",
          "name": "stdout",
          "text": [
            "Sun Mar 17 21:31:29 2024       \n",
            "+---------------------------------------------------------------------------------------+\n",
            "| NVIDIA-SMI 535.104.05             Driver Version: 535.104.05   CUDA Version: 12.2     |\n",
            "|-----------------------------------------+----------------------+----------------------+\n",
            "| GPU  Name                 Persistence-M | Bus-Id        Disp.A | Volatile Uncorr. ECC |\n",
            "| Fan  Temp   Perf          Pwr:Usage/Cap |         Memory-Usage | GPU-Util  Compute M. |\n",
            "|                                         |                      |               MIG M. |\n",
            "|=========================================+======================+======================|\n",
            "|   0  Tesla V100-SXM2-16GB           Off | 00000000:00:04.0 Off |                    0 |\n",
            "| N/A   35C    P0              24W / 300W |      0MiB / 16384MiB |      0%      Default |\n",
            "|                                         |                      |                  N/A |\n",
            "+-----------------------------------------+----------------------+----------------------+\n",
            "                                                                                         \n",
            "+---------------------------------------------------------------------------------------+\n",
            "| Processes:                                                                            |\n",
            "|  GPU   GI   CI        PID   Type   Process name                            GPU Memory |\n",
            "|        ID   ID                                                             Usage      |\n",
            "|=======================================================================================|\n",
            "|  No running processes found                                                           |\n",
            "+---------------------------------------------------------------------------------------+\n"
          ]
        }
      ],
      "source": [
        "!nvidia-smi"
      ]
    },
    {
      "cell_type": "code",
      "execution_count": null,
      "metadata": {
        "colab": {
          "base_uri": "https://localhost:8080/"
        },
        "id": "CjpPg4mGKc1v",
        "outputId": "47995667-1fe1-4dc2-f981-852e07cb7593"
      },
      "outputs": [
        {
          "output_type": "stream",
          "name": "stdout",
          "text": [
            "/content/drive/.shortcut-targets-by-id/1TeS9AqYaWXZcW44HCa4keGs1m55SzRs_/YOLOv87\n"
          ]
        }
      ],
      "source": [
        "import os\n",
        "HOME = os.getcwd()\n",
        "print(HOME)"
      ]
    },
    {
      "cell_type": "markdown",
      "metadata": {
        "id": "3C3EO_2zNChu"
      },
      "source": [
        "## Install YOLOv8\n",
        "\n",
        "⚠️ YOLOv8 is still under heavy development. Breaking changes are being introduced almost weekly. We strive to make our YOLOv8 notebooks work with the latest version of the library. Last tests took place on **18.01.2023** with version **YOLOv8.0.9**.\n",
        "\n",
        "If you notice that our notebook behaves incorrectly - especially if you experience errors that prevent you from going through the tutorial - don't hesitate! Let us know and open an [issue](https://github.com/roboflow/notebooks/issues) on the Roboflow Notebooks repository.\n",
        "\n",
        "YOLOv8 can be installed in two ways - from the source and via pip. This is because it is the first iteration of YOLO to have an official package."
      ]
    },
    {
      "cell_type": "code",
      "execution_count": null,
      "metadata": {
        "colab": {
          "base_uri": "https://localhost:8080/"
        },
        "id": "tdSMcABDNKW-",
        "outputId": "d02ef898-a43b-44ff-9106-fdc6197110ce"
      },
      "outputs": [
        {
          "output_type": "stream",
          "name": "stderr",
          "text": [
            "Ultralytics YOLOv8.0.20 🚀 Python-3.10.12 torch-2.2.1+cu121 CUDA:0 (Tesla V100-SXM2-16GB, 16151MiB)\n",
            "Setup complete ✅ (8 CPUs, 51.0 GB RAM, 28.9/201.2 GB disk)\n"
          ]
        }
      ],
      "source": [
        "# Pip install method (recommended)\n",
        "\n",
        "!pip install ultralytics==8.0.20\n",
        "\n",
        "from IPython import display\n",
        "display.clear_output()\n",
        "\n",
        "import ultralytics\n",
        "ultralytics.checks()"
      ]
    },
    {
      "cell_type": "code",
      "execution_count": null,
      "metadata": {
        "id": "VOEYrlBoP9-E"
      },
      "outputs": [],
      "source": [
        "from ultralytics import YOLO\n",
        "\n",
        "from IPython.display import display, Image"
      ]
    },
    {
      "cell_type": "markdown",
      "metadata": {
        "id": "HnnZSm5OQfPQ"
      },
      "source": [
        "## CLI Basics"
      ]
    },
    {
      "cell_type": "markdown",
      "metadata": {
        "id": "K33S7zlkQku0"
      },
      "source": [
        "If you want to train, validate or run inference on models and don't need to make any modifications to the code, using YOLO command line interface is the easiest way to get started. Read more about CLI in [Ultralytics YOLO Docs](https://v8docs.ultralytics.com/cli/).\n",
        "\n",
        "```\n",
        "yolo task=detect    mode=train    model=yolov8n.yaml      args...\n",
        "          classify       predict        yolov8n-cls.yaml  args...\n",
        "          segment        val            yolov8n-seg.yaml  args...\n",
        "                         export         yolov8n.pt        format=onnx  args...\n",
        "```"
      ]
    },
    {
      "cell_type": "markdown",
      "metadata": {
        "id": "s5RGYA6sPgEd"
      },
      "source": [
        "## Inference with Pre-trained COCO Model"
      ]
    },
    {
      "cell_type": "markdown",
      "metadata": {
        "id": "fT1qD4toTTw0"
      },
      "source": [
        "### 💻 CLI"
      ]
    },
    {
      "cell_type": "markdown",
      "metadata": {
        "id": "ZaE1kLS8R4CV"
      },
      "source": [
        "`yolo mode=predict` runs YOLOv8 inference on a variety of sources, downloading models automatically from the latest YOLOv8 release, and saving results to `runs/predict`."
      ]
    },
    {
      "cell_type": "code",
      "execution_count": null,
      "metadata": {
        "colab": {
          "base_uri": "https://localhost:8080/"
        },
        "id": "FDbMt_M6PiXb",
        "outputId": "db49b609-cfb3-4773-e4e6-81614d111b7b"
      },
      "outputs": [
        {
          "name": "stdout",
          "output_type": "stream",
          "text": [
            "/content\n",
            "Downloading https://github.com/ultralytics/assets/releases/download/v0.0.0/yolov8n.pt to yolov8n.pt...\n",
            "100% 6.23M/6.23M [00:00<00:00, 21.6MB/s]\n",
            "\n",
            "Ultralytics YOLOv8.0.20 🚀 Python-3.8.10 torch-1.13.1+cu116 CUDA:0 (Tesla T4, 15110MiB)\n",
            "YOLOv8n summary (fused): 168 layers, 3151904 parameters, 0 gradients, 8.7 GFLOPs\n",
            "Downloading https://media.roboflow.com/notebooks/examples/dog.jpeg to dog.jpeg...\n",
            "100% 104k/104k [00:00<00:00, 5.08MB/s]\n",
            "image 1/1 /content/dog.jpeg: 640x384 1 person, 1 car, 1 dog, 15.8ms\n",
            "Speed: 0.6ms pre-process, 15.8ms inference, 48.7ms postprocess per image at shape (1, 3, 640, 640)\n"
          ]
        }
      ],
      "source": [
        "%cd {HOME}\n",
        "!yolo task=detect mode=predict model=yolov8n.pt conf=0.25 source='https://media.roboflow.com/notebooks/examples/dog.jpeg'"
      ]
    },
    {
      "cell_type": "code",
      "execution_count": null,
      "metadata": {
        "id": "LyopYpK1TQrB"
      },
      "outputs": [],
      "source": [
        "# %cd {HOME}\n",
        "# Image(filename='runs/detect/predict/dog.jpeg', height=600)"
      ]
    },
    {
      "cell_type": "markdown",
      "metadata": {
        "id": "AFMBYQtMVL-B"
      },
      "source": [
        "### 🐍 Python SDK\n",
        "\n",
        "The simplest way of simply using YOLOv8 directly in a Python environment."
      ]
    },
    {
      "cell_type": "code",
      "execution_count": null,
      "metadata": {
        "colab": {
          "base_uri": "https://localhost:8080/"
        },
        "id": "Rx9NWF-sVN6Y",
        "outputId": "7b2adbae-9d8c-4620-85da-ef8656c4c623"
      },
      "outputs": [
        {
          "name": "stderr",
          "output_type": "stream",
          "text": [
            "Downloading https://github.com/ultralytics/assets/releases/download/v0.0.0/yolov8n.pt to /content/yolov8n.pt...\n",
            "100%|██████████| 6.23M/6.23M [00:00<00:00, 24.8MB/s]\n",
            "\n",
            "Ultralytics YOLOv8.0.20 🚀 Python-3.10.12 torch-2.1.0+cu121 CUDA:0 (Tesla T4, 15102MiB)\n",
            "YOLOv8n summary (fused): 168 layers, 3151904 parameters, 0 gradients, 8.7 GFLOPs\n",
            "Downloading https://media.roboflow.com/notebooks/examples/dog.jpeg to dog.jpeg...\n",
            "100%|██████████| 104k/104k [00:00<00:00, 55.0MB/s]\n",
            "WARNING ⚠️ NMS time limit 0.550s exceeded\n"
          ]
        }
      ],
      "source": [
        "model = YOLO(f'{HOME}/yolov8n.pt')\n",
        "results = model.predict(source='https://media.roboflow.com/notebooks/examples/dog.jpeg', conf=0.25)"
      ]
    },
    {
      "cell_type": "code",
      "execution_count": null,
      "metadata": {
        "colab": {
          "base_uri": "https://localhost:8080/"
        },
        "id": "kAi4PvrItTCf",
        "outputId": "6d5e0223-b5ad-4b40-8094-854c7c6c4e63"
      },
      "outputs": [
        {
          "data": {
            "text/plain": [
              "tensor([[   0.,  314.,  625., 1278.],\n",
              "        [  55.,  250.,  648., 1266.],\n",
              "        [ 633.,  720.,  701.,  786.]], device='cuda:0')"
            ]
          },
          "execution_count": 9,
          "metadata": {},
          "output_type": "execute_result"
        }
      ],
      "source": [
        "results[0].boxes.xyxy"
      ]
    },
    {
      "cell_type": "code",
      "execution_count": null,
      "metadata": {
        "colab": {
          "base_uri": "https://localhost:8080/"
        },
        "id": "HqT2M01K1LUb",
        "outputId": "a33586ac-fe54-48a3-f52e-675a3197e13e"
      },
      "outputs": [
        {
          "data": {
            "text/plain": [
              "tensor([0.72712, 0.29066, 0.28456], device='cuda:0')"
            ]
          },
          "execution_count": 10,
          "metadata": {},
          "output_type": "execute_result"
        }
      ],
      "source": [
        "results[0].boxes.conf"
      ]
    },
    {
      "cell_type": "code",
      "execution_count": null,
      "metadata": {
        "colab": {
          "base_uri": "https://localhost:8080/"
        },
        "id": "gKIwJ5yw1PMb",
        "outputId": "e31f0368-787e-4749-81bb-2c0a636026d9"
      },
      "outputs": [
        {
          "data": {
            "text/plain": [
              "tensor([ 0., 16.,  2.], device='cuda:0')"
            ]
          },
          "execution_count": 11,
          "metadata": {},
          "output_type": "execute_result"
        }
      ],
      "source": [
        "results[0].boxes.cls"
      ]
    },
    {
      "cell_type": "code",
      "execution_count": null,
      "metadata": {
        "id": "c2_6BrbWlqb8"
      },
      "outputs": [],
      "source": [
        "from google.colab import auth\n",
        "auth.authenticate_user()"
      ]
    },
    {
      "cell_type": "code",
      "source": [
        "from google.colab import drive\n",
        "\n",
        "drive._mount('/content/drive')"
      ],
      "metadata": {
        "colab": {
          "base_uri": "https://localhost:8080/",
          "height": 297
        },
        "id": "TvO1xblhFXzb",
        "outputId": "b8dedb11-637f-4938-e3b2-1816183028f1"
      },
      "execution_count": null,
      "outputs": [
        {
          "output_type": "error",
          "ename": "ValueError",
          "evalue": "mount failed",
          "traceback": [
            "\u001b[0;31m---------------------------------------------------------------------------\u001b[0m",
            "\u001b[0;31mValueError\u001b[0m                                Traceback (most recent call last)",
            "\u001b[0;32m<ipython-input-2-68991c85998c>\u001b[0m in \u001b[0;36m<cell line: 3>\u001b[0;34m()\u001b[0m\n\u001b[1;32m      1\u001b[0m \u001b[0;32mfrom\u001b[0m \u001b[0mgoogle\u001b[0m\u001b[0;34m.\u001b[0m\u001b[0mcolab\u001b[0m \u001b[0;32mimport\u001b[0m \u001b[0mdrive\u001b[0m\u001b[0;34m\u001b[0m\u001b[0;34m\u001b[0m\u001b[0m\n\u001b[1;32m      2\u001b[0m \u001b[0;34m\u001b[0m\u001b[0m\n\u001b[0;32m----> 3\u001b[0;31m \u001b[0mdrive\u001b[0m\u001b[0;34m.\u001b[0m\u001b[0m_mount\u001b[0m\u001b[0;34m(\u001b[0m\u001b[0;34m'/content/drive'\u001b[0m\u001b[0;34m)\u001b[0m\u001b[0;34m\u001b[0m\u001b[0;34m\u001b[0m\u001b[0m\n\u001b[0m",
            "\u001b[0;32m/usr/local/lib/python3.10/dist-packages/google/colab/drive.py\u001b[0m in \u001b[0;36m_mount\u001b[0;34m(mountpoint, force_remount, timeout_ms, ephemeral, readonly)\u001b[0m\n\u001b[1;32m    278\u001b[0m             \u001b[0;34m'https://research.google.com/colaboratory/faq.html#drive-timeout'\u001b[0m\u001b[0;34m\u001b[0m\u001b[0;34m\u001b[0m\u001b[0m\n\u001b[1;32m    279\u001b[0m         )\n\u001b[0;32m--> 280\u001b[0;31m       \u001b[0;32mraise\u001b[0m \u001b[0mValueError\u001b[0m\u001b[0;34m(\u001b[0m\u001b[0;34m'mount failed'\u001b[0m \u001b[0;34m+\u001b[0m \u001b[0mextra_reason\u001b[0m\u001b[0;34m)\u001b[0m\u001b[0;34m\u001b[0m\u001b[0;34m\u001b[0m\u001b[0m\n\u001b[0m\u001b[1;32m    281\u001b[0m     \u001b[0;32melif\u001b[0m \u001b[0mcase\u001b[0m \u001b[0;34m==\u001b[0m \u001b[0;36m4\u001b[0m\u001b[0;34m:\u001b[0m\u001b[0;34m\u001b[0m\u001b[0;34m\u001b[0m\u001b[0m\n\u001b[1;32m    282\u001b[0m       \u001b[0;31m# Terminate the DriveFS binary before killing bash.\u001b[0m\u001b[0;34m\u001b[0m\u001b[0;34m\u001b[0m\u001b[0m\n",
            "\u001b[0;31mValueError\u001b[0m: mount failed"
          ]
        }
      ]
    },
    {
      "cell_type": "markdown",
      "metadata": {
        "id": "YUjFBKKqXa-u"
      },
      "source": [
        "## Custom Training"
      ]
    },
    {
      "cell_type": "code",
      "execution_count": null,
      "metadata": {
        "colab": {
          "base_uri": "https://localhost:8080/"
        },
        "id": "a_di00JWpOX8",
        "outputId": "0bbbfac6-59cb-461c-d791-8adb3f4674d1"
      },
      "outputs": [
        {
          "output_type": "stream",
          "name": "stdout",
          "text": [
            "Mounted at /content/drive\n"
          ]
        }
      ],
      "source": [
        "from google.colab import drive\n",
        "drive.mount('/content/drive')"
      ]
    },
    {
      "cell_type": "code",
      "execution_count": null,
      "metadata": {
        "colab": {
          "base_uri": "https://localhost:8080/"
        },
        "id": "hadnMgv2pahh",
        "outputId": "37676373-b75b-43ea-fa4d-8ddc470e719c"
      },
      "outputs": [
        {
          "output_type": "stream",
          "name": "stdout",
          "text": [
            "/content/drive/.shortcut-targets-by-id/1TeS9AqYaWXZcW44HCa4keGs1m55SzRs_/YOLOv87\n"
          ]
        }
      ],
      "source": [
        "%cd /content/drive/MyDrive/YOLOv87\n"
      ]
    },
    {
      "cell_type": "code",
      "source": [
        "!pip install ultralytics\n"
      ],
      "metadata": {
        "colab": {
          "base_uri": "https://localhost:8080/"
        },
        "id": "KqYV_2vgWDDi",
        "outputId": "d8555969-61aa-47ad-dd24-d553f0cdf8df"
      },
      "execution_count": null,
      "outputs": [
        {
          "output_type": "stream",
          "name": "stdout",
          "text": [
            "Requirement already satisfied: ultralytics in /usr/local/lib/python3.10/dist-packages (8.0.20)\n",
            "Requirement already satisfied: matplotlib>=3.2.2 in /usr/local/lib/python3.10/dist-packages (from ultralytics) (3.7.1)\n",
            "Requirement already satisfied: numpy>=1.18.5 in /usr/local/lib/python3.10/dist-packages (from ultralytics) (1.25.2)\n",
            "Requirement already satisfied: opencv-python>=4.6.0 in /usr/local/lib/python3.10/dist-packages (from ultralytics) (4.8.0.76)\n",
            "Requirement already satisfied: Pillow>=7.1.2 in /usr/local/lib/python3.10/dist-packages (from ultralytics) (9.4.0)\n",
            "Requirement already satisfied: PyYAML>=5.3.1 in /usr/local/lib/python3.10/dist-packages (from ultralytics) (6.0.1)\n",
            "Requirement already satisfied: requests>=2.23.0 in /usr/local/lib/python3.10/dist-packages (from ultralytics) (2.31.0)\n",
            "Requirement already satisfied: scipy>=1.4.1 in /usr/local/lib/python3.10/dist-packages (from ultralytics) (1.11.4)\n",
            "Requirement already satisfied: torch>=1.7.0 in /usr/local/lib/python3.10/dist-packages (from ultralytics) (2.2.1+cu121)\n",
            "Requirement already satisfied: torchvision>=0.8.1 in /usr/local/lib/python3.10/dist-packages (from ultralytics) (0.17.1+cu121)\n",
            "Requirement already satisfied: tqdm>=4.64.0 in /usr/local/lib/python3.10/dist-packages (from ultralytics) (4.66.2)\n",
            "Requirement already satisfied: tensorboard>=2.4.1 in /usr/local/lib/python3.10/dist-packages (from ultralytics) (2.15.2)\n",
            "Requirement already satisfied: pandas>=1.1.4 in /usr/local/lib/python3.10/dist-packages (from ultralytics) (1.5.3)\n",
            "Requirement already satisfied: seaborn>=0.11.0 in /usr/local/lib/python3.10/dist-packages (from ultralytics) (0.13.1)\n",
            "Requirement already satisfied: ipython in /usr/local/lib/python3.10/dist-packages (from ultralytics) (7.34.0)\n",
            "Requirement already satisfied: psutil in /usr/local/lib/python3.10/dist-packages (from ultralytics) (5.9.5)\n",
            "Requirement already satisfied: thop>=0.1.1 in /usr/local/lib/python3.10/dist-packages (from ultralytics) (0.1.1.post2209072238)\n",
            "Requirement already satisfied: sentry-sdk in /usr/local/lib/python3.10/dist-packages (from ultralytics) (1.42.0)\n",
            "Requirement already satisfied: contourpy>=1.0.1 in /usr/local/lib/python3.10/dist-packages (from matplotlib>=3.2.2->ultralytics) (1.2.0)\n",
            "Requirement already satisfied: cycler>=0.10 in /usr/local/lib/python3.10/dist-packages (from matplotlib>=3.2.2->ultralytics) (0.12.1)\n",
            "Requirement already satisfied: fonttools>=4.22.0 in /usr/local/lib/python3.10/dist-packages (from matplotlib>=3.2.2->ultralytics) (4.49.0)\n",
            "Requirement already satisfied: kiwisolver>=1.0.1 in /usr/local/lib/python3.10/dist-packages (from matplotlib>=3.2.2->ultralytics) (1.4.5)\n",
            "Requirement already satisfied: packaging>=20.0 in /usr/local/lib/python3.10/dist-packages (from matplotlib>=3.2.2->ultralytics) (24.0)\n",
            "Requirement already satisfied: pyparsing>=2.3.1 in /usr/local/lib/python3.10/dist-packages (from matplotlib>=3.2.2->ultralytics) (3.1.2)\n",
            "Requirement already satisfied: python-dateutil>=2.7 in /usr/local/lib/python3.10/dist-packages (from matplotlib>=3.2.2->ultralytics) (2.8.2)\n",
            "Requirement already satisfied: pytz>=2020.1 in /usr/local/lib/python3.10/dist-packages (from pandas>=1.1.4->ultralytics) (2023.4)\n",
            "Requirement already satisfied: charset-normalizer<4,>=2 in /usr/local/lib/python3.10/dist-packages (from requests>=2.23.0->ultralytics) (3.3.2)\n",
            "Requirement already satisfied: idna<4,>=2.5 in /usr/local/lib/python3.10/dist-packages (from requests>=2.23.0->ultralytics) (3.6)\n",
            "Requirement already satisfied: urllib3<3,>=1.21.1 in /usr/local/lib/python3.10/dist-packages (from requests>=2.23.0->ultralytics) (2.0.7)\n",
            "Requirement already satisfied: certifi>=2017.4.17 in /usr/local/lib/python3.10/dist-packages (from requests>=2.23.0->ultralytics) (2024.2.2)\n",
            "Requirement already satisfied: absl-py>=0.4 in /usr/local/lib/python3.10/dist-packages (from tensorboard>=2.4.1->ultralytics) (1.4.0)\n",
            "Requirement already satisfied: grpcio>=1.48.2 in /usr/local/lib/python3.10/dist-packages (from tensorboard>=2.4.1->ultralytics) (1.62.1)\n",
            "Requirement already satisfied: google-auth<3,>=1.6.3 in /usr/local/lib/python3.10/dist-packages (from tensorboard>=2.4.1->ultralytics) (2.27.0)\n",
            "Requirement already satisfied: google-auth-oauthlib<2,>=0.5 in /usr/local/lib/python3.10/dist-packages (from tensorboard>=2.4.1->ultralytics) (1.2.0)\n",
            "Requirement already satisfied: markdown>=2.6.8 in /usr/local/lib/python3.10/dist-packages (from tensorboard>=2.4.1->ultralytics) (3.5.2)\n",
            "Requirement already satisfied: protobuf!=4.24.0,>=3.19.6 in /usr/local/lib/python3.10/dist-packages (from tensorboard>=2.4.1->ultralytics) (3.20.3)\n",
            "Requirement already satisfied: setuptools>=41.0.0 in /usr/local/lib/python3.10/dist-packages (from tensorboard>=2.4.1->ultralytics) (67.7.2)\n",
            "Requirement already satisfied: six>1.9 in /usr/local/lib/python3.10/dist-packages (from tensorboard>=2.4.1->ultralytics) (1.16.0)\n",
            "Requirement already satisfied: tensorboard-data-server<0.8.0,>=0.7.0 in /usr/local/lib/python3.10/dist-packages (from tensorboard>=2.4.1->ultralytics) (0.7.2)\n",
            "Requirement already satisfied: werkzeug>=1.0.1 in /usr/local/lib/python3.10/dist-packages (from tensorboard>=2.4.1->ultralytics) (3.0.1)\n",
            "Requirement already satisfied: filelock in /usr/local/lib/python3.10/dist-packages (from torch>=1.7.0->ultralytics) (3.13.1)\n",
            "Requirement already satisfied: typing-extensions>=4.8.0 in /usr/local/lib/python3.10/dist-packages (from torch>=1.7.0->ultralytics) (4.10.0)\n",
            "Requirement already satisfied: sympy in /usr/local/lib/python3.10/dist-packages (from torch>=1.7.0->ultralytics) (1.12)\n",
            "Requirement already satisfied: networkx in /usr/local/lib/python3.10/dist-packages (from torch>=1.7.0->ultralytics) (3.2.1)\n",
            "Requirement already satisfied: jinja2 in /usr/local/lib/python3.10/dist-packages (from torch>=1.7.0->ultralytics) (3.1.3)\n",
            "Requirement already satisfied: fsspec in /usr/local/lib/python3.10/dist-packages (from torch>=1.7.0->ultralytics) (2023.6.0)\n",
            "Requirement already satisfied: nvidia-cuda-nvrtc-cu12==12.1.105 in /usr/local/lib/python3.10/dist-packages (from torch>=1.7.0->ultralytics) (12.1.105)\n",
            "Requirement already satisfied: nvidia-cuda-runtime-cu12==12.1.105 in /usr/local/lib/python3.10/dist-packages (from torch>=1.7.0->ultralytics) (12.1.105)\n",
            "Requirement already satisfied: nvidia-cuda-cupti-cu12==12.1.105 in /usr/local/lib/python3.10/dist-packages (from torch>=1.7.0->ultralytics) (12.1.105)\n",
            "Requirement already satisfied: nvidia-cudnn-cu12==8.9.2.26 in /usr/local/lib/python3.10/dist-packages (from torch>=1.7.0->ultralytics) (8.9.2.26)\n",
            "Requirement already satisfied: nvidia-cublas-cu12==12.1.3.1 in /usr/local/lib/python3.10/dist-packages (from torch>=1.7.0->ultralytics) (12.1.3.1)\n",
            "Requirement already satisfied: nvidia-cufft-cu12==11.0.2.54 in /usr/local/lib/python3.10/dist-packages (from torch>=1.7.0->ultralytics) (11.0.2.54)\n",
            "Requirement already satisfied: nvidia-curand-cu12==10.3.2.106 in /usr/local/lib/python3.10/dist-packages (from torch>=1.7.0->ultralytics) (10.3.2.106)\n",
            "Requirement already satisfied: nvidia-cusolver-cu12==11.4.5.107 in /usr/local/lib/python3.10/dist-packages (from torch>=1.7.0->ultralytics) (11.4.5.107)\n",
            "Requirement already satisfied: nvidia-cusparse-cu12==12.1.0.106 in /usr/local/lib/python3.10/dist-packages (from torch>=1.7.0->ultralytics) (12.1.0.106)\n",
            "Requirement already satisfied: nvidia-nccl-cu12==2.19.3 in /usr/local/lib/python3.10/dist-packages (from torch>=1.7.0->ultralytics) (2.19.3)\n",
            "Requirement already satisfied: nvidia-nvtx-cu12==12.1.105 in /usr/local/lib/python3.10/dist-packages (from torch>=1.7.0->ultralytics) (12.1.105)\n",
            "Requirement already satisfied: triton==2.2.0 in /usr/local/lib/python3.10/dist-packages (from torch>=1.7.0->ultralytics) (2.2.0)\n",
            "Requirement already satisfied: nvidia-nvjitlink-cu12 in /usr/local/lib/python3.10/dist-packages (from nvidia-cusolver-cu12==11.4.5.107->torch>=1.7.0->ultralytics) (12.4.99)\n",
            "Requirement already satisfied: jedi>=0.16 in /usr/local/lib/python3.10/dist-packages (from ipython->ultralytics) (0.19.1)\n",
            "Requirement already satisfied: decorator in /usr/local/lib/python3.10/dist-packages (from ipython->ultralytics) (4.4.2)\n",
            "Requirement already satisfied: pickleshare in /usr/local/lib/python3.10/dist-packages (from ipython->ultralytics) (0.7.5)\n",
            "Requirement already satisfied: traitlets>=4.2 in /usr/local/lib/python3.10/dist-packages (from ipython->ultralytics) (5.7.1)\n",
            "Requirement already satisfied: prompt-toolkit!=3.0.0,!=3.0.1,<3.1.0,>=2.0.0 in /usr/local/lib/python3.10/dist-packages (from ipython->ultralytics) (3.0.43)\n",
            "Requirement already satisfied: pygments in /usr/local/lib/python3.10/dist-packages (from ipython->ultralytics) (2.16.1)\n",
            "Requirement already satisfied: backcall in /usr/local/lib/python3.10/dist-packages (from ipython->ultralytics) (0.2.0)\n",
            "Requirement already satisfied: matplotlib-inline in /usr/local/lib/python3.10/dist-packages (from ipython->ultralytics) (0.1.6)\n",
            "Requirement already satisfied: pexpect>4.3 in /usr/local/lib/python3.10/dist-packages (from ipython->ultralytics) (4.9.0)\n",
            "Requirement already satisfied: cachetools<6.0,>=2.0.0 in /usr/local/lib/python3.10/dist-packages (from google-auth<3,>=1.6.3->tensorboard>=2.4.1->ultralytics) (5.3.3)\n",
            "Requirement already satisfied: pyasn1-modules>=0.2.1 in /usr/local/lib/python3.10/dist-packages (from google-auth<3,>=1.6.3->tensorboard>=2.4.1->ultralytics) (0.3.0)\n",
            "Requirement already satisfied: rsa<5,>=3.1.4 in /usr/local/lib/python3.10/dist-packages (from google-auth<3,>=1.6.3->tensorboard>=2.4.1->ultralytics) (4.9)\n",
            "Requirement already satisfied: requests-oauthlib>=0.7.0 in /usr/local/lib/python3.10/dist-packages (from google-auth-oauthlib<2,>=0.5->tensorboard>=2.4.1->ultralytics) (1.4.0)\n",
            "Requirement already satisfied: parso<0.9.0,>=0.8.3 in /usr/local/lib/python3.10/dist-packages (from jedi>=0.16->ipython->ultralytics) (0.8.3)\n",
            "Requirement already satisfied: ptyprocess>=0.5 in /usr/local/lib/python3.10/dist-packages (from pexpect>4.3->ipython->ultralytics) (0.7.0)\n",
            "Requirement already satisfied: wcwidth in /usr/local/lib/python3.10/dist-packages (from prompt-toolkit!=3.0.0,!=3.0.1,<3.1.0,>=2.0.0->ipython->ultralytics) (0.2.13)\n",
            "Requirement already satisfied: MarkupSafe>=2.1.1 in /usr/local/lib/python3.10/dist-packages (from werkzeug>=1.0.1->tensorboard>=2.4.1->ultralytics) (2.1.5)\n",
            "Requirement already satisfied: mpmath>=0.19 in /usr/local/lib/python3.10/dist-packages (from sympy->torch>=1.7.0->ultralytics) (1.3.0)\n",
            "Requirement already satisfied: pyasn1<0.6.0,>=0.4.6 in /usr/local/lib/python3.10/dist-packages (from pyasn1-modules>=0.2.1->google-auth<3,>=1.6.3->tensorboard>=2.4.1->ultralytics) (0.5.1)\n",
            "Requirement already satisfied: oauthlib>=3.0.0 in /usr/local/lib/python3.10/dist-packages (from requests-oauthlib>=0.7.0->google-auth-oauthlib<2,>=0.5->tensorboard>=2.4.1->ultralytics) (3.2.2)\n"
          ]
        }
      ]
    },
    {
      "cell_type": "code",
      "execution_count": null,
      "metadata": {
        "id": "M5i-CXuVsobV"
      },
      "outputs": [],
      "source": [
        "import os\n",
        "\n",
        "# Set environment variable\n",
        "os.environ['PYTORCH_CUDA_ALLOC_CONF'] = 'max_split_size_mb:128'\n"
      ]
    },
    {
      "cell_type": "code",
      "execution_count": null,
      "metadata": {
        "id": "HKjuuStrrHwx"
      },
      "outputs": [],
      "source": [
        "import torch\n",
        "torch.cuda.empty_cache()\n"
      ]
    },
    {
      "cell_type": "code",
      "execution_count": null,
      "metadata": {
        "id": "WFKCnbxgq6pV"
      },
      "outputs": [],
      "source": [
        "import gc\n",
        "\n",
        "gc.collect()\n",
        "\n",
        "torch.cuda.empty_cache()"
      ]
    },
    {
      "cell_type": "code",
      "source": [
        "!yolo task=detect mode=train model=yolov8l.pt data= data.yaml epochs=40 imgsz=800 plots=True"
      ],
      "metadata": {
        "colab": {
          "base_uri": "https://localhost:8080/"
        },
        "id": "NCgDJkS_OO6E",
        "outputId": "afd35ad0-f11a-4772-8967-5545781b0917"
      },
      "execution_count": null,
      "outputs": [
        {
          "output_type": "stream",
          "name": "stdout",
          "text": [
            "Ultralytics YOLOv8.0.20 🚀 Python-3.10.12 torch-2.2.1+cu121 CUDA:0 (Tesla V100-SXM2-16GB, 16151MiB)\n",
            "\u001b[34m\u001b[1myolo/engine/trainer: \u001b[0mtask=detect, mode=train, model=yolov8l.yaml, data=data.yaml, epochs=40, patience=50, batch=16, imgsz=800, save=True, cache=False, device=, workers=8, project=None, name=None, exist_ok=False, pretrained=False, optimizer=SGD, verbose=True, seed=0, deterministic=True, single_cls=False, image_weights=False, rect=False, cos_lr=False, close_mosaic=10, resume=False, overlap_mask=True, mask_ratio=4, dropout=False, val=True, save_json=False, save_hybrid=False, conf=0.001, iou=0.7, max_det=300, half=False, dnn=False, plots=True, source=ultralytics/assets/, show=False, save_txt=False, save_conf=False, save_crop=False, hide_labels=False, hide_conf=False, vid_stride=1, line_thickness=3, visualize=False, augment=False, agnostic_nms=False, classes=None, retina_masks=False, boxes=True, format=torchscript, keras=False, optimize=False, int8=False, dynamic=False, simplify=False, opset=17, workspace=4, nms=False, lr0=0.01, lrf=0.01, momentum=0.937, weight_decay=0.001, warmup_epochs=3.0, warmup_momentum=0.8, warmup_bias_lr=0.1, box=7.5, cls=0.5, dfl=1.5, fl_gamma=0.0, label_smoothing=0.0, nbs=64, hsv_h=0.015, hsv_s=0.7, hsv_v=0.4, degrees=0.0, translate=0.1, scale=0.9, shear=0.0, perspective=0.0, flipud=0.0, fliplr=0.5, mosaic=1.0, mixup=0.15, copy_paste=0.3, cfg=None, v5loader=False, save_dir=runs/detect/train7\n",
            "2024-03-17 02:24:14.797533: E external/local_xla/xla/stream_executor/cuda/cuda_dnn.cc:9261] Unable to register cuDNN factory: Attempting to register factory for plugin cuDNN when one has already been registered\n",
            "2024-03-17 02:24:14.797584: E external/local_xla/xla/stream_executor/cuda/cuda_fft.cc:607] Unable to register cuFFT factory: Attempting to register factory for plugin cuFFT when one has already been registered\n",
            "2024-03-17 02:24:14.798954: E external/local_xla/xla/stream_executor/cuda/cuda_blas.cc:1515] Unable to register cuBLAS factory: Attempting to register factory for plugin cuBLAS when one has already been registered\n",
            "2024-03-17 02:24:15.843719: W tensorflow/compiler/tf2tensorrt/utils/py_utils.cc:38] TF-TRT Warning: Could not find TensorRT\n",
            "Overriding model.yaml nc=80 with nc=1\n",
            "\n",
            "                   from  n    params  module                                       arguments                     \n",
            "  0                  -1  1      1856  ultralytics.nn.modules.Conv                  [3, 64, 3, 2]                 \n",
            "  1                  -1  1     73984  ultralytics.nn.modules.Conv                  [64, 128, 3, 2]               \n",
            "  2                  -1  3    279808  ultralytics.nn.modules.C2f                   [128, 128, 3, True]           \n",
            "  3                  -1  1    295424  ultralytics.nn.modules.Conv                  [128, 256, 3, 2]              \n",
            "  4                  -1  6   2101248  ultralytics.nn.modules.C2f                   [256, 256, 6, True]           \n",
            "  5                  -1  1   1180672  ultralytics.nn.modules.Conv                  [256, 512, 3, 2]              \n",
            "  6                  -1  6   8396800  ultralytics.nn.modules.C2f                   [512, 512, 6, True]           \n",
            "  7                  -1  1   2360320  ultralytics.nn.modules.Conv                  [512, 512, 3, 2]              \n",
            "  8                  -1  3   4461568  ultralytics.nn.modules.C2f                   [512, 512, 3, True]           \n",
            "  9                  -1  1    656896  ultralytics.nn.modules.SPPF                  [512, 512, 5]                 \n",
            " 10                  -1  1         0  torch.nn.modules.upsampling.Upsample         [None, 2, 'nearest']          \n",
            " 11             [-1, 6]  1         0  ultralytics.nn.modules.Concat                [1]                           \n",
            " 12                  -1  3   4723712  ultralytics.nn.modules.C2f                   [1024, 512, 3]                \n",
            " 13                  -1  1         0  torch.nn.modules.upsampling.Upsample         [None, 2, 'nearest']          \n",
            " 14             [-1, 4]  1         0  ultralytics.nn.modules.Concat                [1]                           \n",
            " 15                  -1  3   1247744  ultralytics.nn.modules.C2f                   [768, 256, 3]                 \n",
            " 16                  -1  1    590336  ultralytics.nn.modules.Conv                  [256, 256, 3, 2]              \n",
            " 17            [-1, 12]  1         0  ultralytics.nn.modules.Concat                [1]                           \n",
            " 18                  -1  3   4592640  ultralytics.nn.modules.C2f                   [768, 512, 3]                 \n",
            " 19                  -1  1   2360320  ultralytics.nn.modules.Conv                  [512, 512, 3, 2]              \n",
            " 20             [-1, 9]  1         0  ultralytics.nn.modules.Concat                [1]                           \n",
            " 21                  -1  3   4723712  ultralytics.nn.modules.C2f                   [1024, 512, 3]                \n",
            " 22        [15, 18, 21]  1   5583571  ultralytics.nn.modules.Detect                [1, [256, 512, 512]]          \n",
            "Model summary: 365 layers, 43630611 parameters, 43630595 gradients, 165.4 GFLOPs\n",
            "\n",
            "Transferred 589/595 items from pretrained weights\n",
            "\u001b[34m\u001b[1moptimizer:\u001b[0m SGD(lr=0.01) with parameter groups 97 weight(decay=0.0), 104 weight(decay=0.001), 103 bias\n",
            "\u001b[34m\u001b[1mtrain: \u001b[0mScanning /content/drive/.shortcut-targets-by-id/1TeS9AqYaWXZcW44HCa4keGs1m55SzRs_/YOLOv87/data/train/labels.cache... 1543 images, 21 backgrounds, 0 corrupt: 100% 1564/1564 [00:00<?, ?it/s]\n",
            "\u001b[34m\u001b[1malbumentations: \u001b[0mBlur(p=0.01, blur_limit=(3, 7)), MedianBlur(p=0.01, blur_limit=(3, 7)), ToGray(p=0.01), CLAHE(p=0.01, clip_limit=(1, 4.0), tile_grid_size=(8, 8))\n",
            "\u001b[34m\u001b[1mval: \u001b[0mScanning /content/drive/.shortcut-targets-by-id/1TeS9AqYaWXZcW44HCa4keGs1m55SzRs_/YOLOv87/data/valid/labels.cache... 212 images, 0 backgrounds, 0 corrupt: 100% 212/212 [00:00<?, ?it/s]\n",
            "Image sizes 800 train, 800 val\n",
            "Using 8 dataloader workers\n",
            "Logging results to \u001b[1mruns/detect/train7\u001b[0m\n",
            "Starting training for 40 epochs...\n",
            "\n",
            "      Epoch    GPU_mem   box_loss   cls_loss   dfl_loss  Instances       Size\n",
            "       1/40      15.1G      1.663      1.638       1.42         77        800: 100% 98/98 [01:00<00:00,  1.62it/s]\n",
            "                 Class     Images  Instances      Box(P          R      mAP50  mAP50-95): 100% 7/7 [00:04<00:00,  1.47it/s]\n",
            "                   all        212        753       0.86      0.815      0.867      0.431\n",
            "\n",
            "      Epoch    GPU_mem   box_loss   cls_loss   dfl_loss  Instances       Size\n",
            "       2/40      15.6G      1.533      1.145      1.312         93        800: 100% 98/98 [00:47<00:00,  2.07it/s]\n",
            "                 Class     Images  Instances      Box(P          R      mAP50  mAP50-95): 100% 7/7 [00:04<00:00,  1.60it/s]\n",
            "                   all        212        753      0.856      0.773      0.846      0.425\n",
            "\n",
            "      Epoch    GPU_mem   box_loss   cls_loss   dfl_loss  Instances       Size\n",
            "       3/40      15.6G      1.597       1.27      1.359         60        800: 100% 98/98 [00:45<00:00,  2.16it/s]\n",
            "                 Class     Images  Instances      Box(P          R      mAP50  mAP50-95): 100% 7/7 [00:04<00:00,  1.57it/s]\n",
            "                   all        212        753      0.844       0.68      0.751       0.37\n",
            "\n",
            "      Epoch    GPU_mem   box_loss   cls_loss   dfl_loss  Instances       Size\n",
            "       4/40      15.6G      1.656      1.288      1.391         46        800: 100% 98/98 [00:45<00:00,  2.17it/s]\n",
            "                 Class     Images  Instances      Box(P          R      mAP50  mAP50-95): 100% 7/7 [00:04<00:00,  1.59it/s]\n",
            "                   all        212        753      0.802      0.717      0.777      0.372\n",
            "\n",
            "      Epoch    GPU_mem   box_loss   cls_loss   dfl_loss  Instances       Size\n",
            "       5/40      15.6G      1.699      1.326      1.417        102        800: 100% 98/98 [00:44<00:00,  2.18it/s]\n",
            "                 Class     Images  Instances      Box(P          R      mAP50  mAP50-95): 100% 7/7 [00:04<00:00,  1.60it/s]\n",
            "                   all        212        753      0.789      0.596      0.695      0.319\n",
            "\n",
            "      Epoch    GPU_mem   box_loss   cls_loss   dfl_loss  Instances       Size\n",
            "       6/40      15.6G      1.702      1.312      1.422         68        800: 100% 98/98 [00:45<00:00,  2.18it/s]\n",
            "                 Class     Images  Instances      Box(P          R      mAP50  mAP50-95): 100% 7/7 [00:04<00:00,  1.60it/s]\n",
            "                   all        212        753      0.815      0.703      0.778      0.363\n",
            "\n",
            "      Epoch    GPU_mem   box_loss   cls_loss   dfl_loss  Instances       Size\n",
            "       7/40      15.6G      1.667      1.263      1.435        104        800: 100% 98/98 [00:45<00:00,  2.16it/s]\n",
            "                 Class     Images  Instances      Box(P          R      mAP50  mAP50-95): 100% 7/7 [00:04<00:00,  1.62it/s]\n",
            "                   all        212        753      0.802      0.729      0.751      0.353\n",
            "\n",
            "      Epoch    GPU_mem   box_loss   cls_loss   dfl_loss  Instances       Size\n",
            "       8/40      15.6G      1.676      1.247       1.42         93        800: 100% 98/98 [00:45<00:00,  2.15it/s]\n",
            "                 Class     Images  Instances      Box(P          R      mAP50  mAP50-95): 100% 7/7 [00:04<00:00,  1.62it/s]\n",
            "                   all        212        753      0.846      0.786      0.821      0.409\n",
            "\n",
            "      Epoch    GPU_mem   box_loss   cls_loss   dfl_loss  Instances       Size\n",
            "       9/40      15.6G      1.644        1.2      1.409         89        800: 100% 98/98 [00:45<00:00,  2.18it/s]\n",
            "                 Class     Images  Instances      Box(P          R      mAP50  mAP50-95): 100% 7/7 [00:04<00:00,  1.63it/s]\n",
            "                   all        212        753      0.872      0.759      0.847      0.436\n",
            "\n",
            "      Epoch    GPU_mem   box_loss   cls_loss   dfl_loss  Instances       Size\n",
            "      10/40      15.6G      1.614      1.194      1.385         49        800: 100% 98/98 [00:44<00:00,  2.18it/s]\n",
            "                 Class     Images  Instances      Box(P          R      mAP50  mAP50-95): 100% 7/7 [00:04<00:00,  1.55it/s]\n",
            "                   all        212        753      0.882      0.776      0.854      0.431\n",
            "\n",
            "      Epoch    GPU_mem   box_loss   cls_loss   dfl_loss  Instances       Size\n",
            "      11/40      15.6G      1.619      1.165      1.398         67        800: 100% 98/98 [00:44<00:00,  2.20it/s]\n",
            "                 Class     Images  Instances      Box(P          R      mAP50  mAP50-95): 100% 7/7 [00:04<00:00,  1.58it/s]\n",
            "                   all        212        753      0.887      0.786      0.871      0.451\n",
            "\n",
            "      Epoch    GPU_mem   box_loss   cls_loss   dfl_loss  Instances       Size\n",
            "      12/40      15.6G      1.603      1.134      1.379        109        800: 100% 98/98 [00:46<00:00,  2.09it/s]\n",
            "                 Class     Images  Instances      Box(P          R      mAP50  mAP50-95): 100% 7/7 [00:04<00:00,  1.63it/s]\n",
            "                   all        212        753      0.859      0.712      0.781      0.387\n",
            "\n",
            "      Epoch    GPU_mem   box_loss   cls_loss   dfl_loss  Instances       Size\n",
            "      13/40      15.6G      1.578      1.062      1.357         90        800: 100% 98/98 [00:44<00:00,  2.19it/s]\n",
            "                 Class     Images  Instances      Box(P          R      mAP50  mAP50-95): 100% 7/7 [00:04<00:00,  1.57it/s]\n",
            "                   all        212        753      0.894      0.793      0.876      0.445\n",
            "\n",
            "      Epoch    GPU_mem   box_loss   cls_loss   dfl_loss  Instances       Size\n",
            "      14/40      15.6G      1.548      1.072      1.353         78        800: 100% 98/98 [00:44<00:00,  2.18it/s]\n",
            "                 Class     Images  Instances      Box(P          R      mAP50  mAP50-95): 100% 7/7 [00:04<00:00,  1.61it/s]\n",
            "                   all        212        753      0.882       0.79       0.86       0.44\n",
            "\n",
            "      Epoch    GPU_mem   box_loss   cls_loss   dfl_loss  Instances       Size\n",
            "      15/40      15.6G      1.553      1.063      1.349         90        800: 100% 98/98 [00:45<00:00,  2.16it/s]\n",
            "                 Class     Images  Instances      Box(P          R      mAP50  mAP50-95): 100% 7/7 [00:04<00:00,  1.64it/s]\n",
            "                   all        212        753      0.904      0.811      0.887      0.465\n",
            "\n",
            "      Epoch    GPU_mem   box_loss   cls_loss   dfl_loss  Instances       Size\n",
            "      16/40      15.6G      1.555      1.073      1.361         67        800: 100% 98/98 [00:46<00:00,  2.10it/s]\n",
            "                 Class     Images  Instances      Box(P          R      mAP50  mAP50-95): 100% 7/7 [00:04<00:00,  1.62it/s]\n",
            "                   all        212        753      0.907       0.81      0.896      0.471\n",
            "\n",
            "      Epoch    GPU_mem   box_loss   cls_loss   dfl_loss  Instances       Size\n",
            "      17/40      15.6G      1.508      1.017      1.329         39        800: 100% 98/98 [00:46<00:00,  2.09it/s]\n",
            "                 Class     Images  Instances      Box(P          R      mAP50  mAP50-95): 100% 7/7 [00:04<00:00,  1.60it/s]\n",
            "                   all        212        753      0.888      0.806      0.875      0.464\n",
            "\n",
            "      Epoch    GPU_mem   box_loss   cls_loss   dfl_loss  Instances       Size\n",
            "      18/40      15.6G      1.498      1.012      1.326         79        800: 100% 98/98 [00:47<00:00,  2.07it/s]\n",
            "                 Class     Images  Instances      Box(P          R      mAP50  mAP50-95): 100% 7/7 [00:04<00:00,  1.64it/s]\n",
            "                   all        212        753      0.908      0.841      0.904      0.477\n",
            "\n",
            "      Epoch    GPU_mem   box_loss   cls_loss   dfl_loss  Instances       Size\n",
            "      19/40      15.6G      1.477     0.9652      1.317        106        800: 100% 98/98 [00:47<00:00,  2.07it/s]\n",
            "                 Class     Images  Instances      Box(P          R      mAP50  mAP50-95): 100% 7/7 [00:04<00:00,  1.63it/s]\n",
            "                   all        212        753      0.881      0.841      0.897      0.465\n",
            "\n",
            "      Epoch    GPU_mem   box_loss   cls_loss   dfl_loss  Instances       Size\n",
            "      20/40      15.6G      1.476     0.9688      1.314         63        800: 100% 98/98 [00:46<00:00,  2.09it/s]\n",
            "                 Class     Images  Instances      Box(P          R      mAP50  mAP50-95): 100% 7/7 [00:04<00:00,  1.64it/s]\n",
            "                   all        212        753      0.927      0.838      0.894      0.467\n",
            "\n",
            "      Epoch    GPU_mem   box_loss   cls_loss   dfl_loss  Instances       Size\n",
            "      21/40      15.6G      1.456     0.9369      1.298         66        800: 100% 98/98 [00:45<00:00,  2.15it/s]\n",
            "                 Class     Images  Instances      Box(P          R      mAP50  mAP50-95): 100% 7/7 [00:04<00:00,  1.61it/s]\n",
            "                   all        212        753      0.913      0.834       0.91      0.485\n",
            "\n",
            "      Epoch    GPU_mem   box_loss   cls_loss   dfl_loss  Instances       Size\n",
            "      22/40      15.6G      1.461     0.9343      1.306         97        800: 100% 98/98 [00:46<00:00,  2.09it/s]\n",
            "                 Class     Images  Instances      Box(P          R      mAP50  mAP50-95): 100% 7/7 [00:04<00:00,  1.64it/s]\n",
            "                   all        212        753      0.917      0.853      0.911       0.49\n",
            "\n",
            "      Epoch    GPU_mem   box_loss   cls_loss   dfl_loss  Instances       Size\n",
            "      23/40      15.6G      1.424     0.9116      1.271        105        800: 100% 98/98 [00:46<00:00,  2.12it/s]\n",
            "                 Class     Images  Instances      Box(P          R      mAP50  mAP50-95): 100% 7/7 [00:04<00:00,  1.57it/s]\n",
            "                   all        212        753      0.911      0.886      0.926      0.509\n",
            "\n",
            "      Epoch    GPU_mem   box_loss   cls_loss   dfl_loss  Instances       Size\n",
            "      24/40      15.6G      1.403     0.8816       1.28         48        800: 100% 98/98 [00:47<00:00,  2.07it/s]\n",
            "                 Class     Images  Instances      Box(P          R      mAP50  mAP50-95): 100% 7/7 [00:04<00:00,  1.62it/s]\n",
            "                   all        212        753      0.913      0.866       0.92      0.511\n",
            "\n",
            "      Epoch    GPU_mem   box_loss   cls_loss   dfl_loss  Instances       Size\n",
            "      25/40      15.6G      1.412       0.88      1.267         81        800: 100% 98/98 [00:47<00:00,  2.05it/s]\n",
            "                 Class     Images  Instances      Box(P          R      mAP50  mAP50-95): 100% 7/7 [00:04<00:00,  1.58it/s]\n",
            "                   all        212        753      0.913      0.874      0.928      0.505\n",
            "\n",
            "      Epoch    GPU_mem   box_loss   cls_loss   dfl_loss  Instances       Size\n",
            "      26/40      15.6G      1.372      0.857      1.267        117        800: 100% 98/98 [00:45<00:00,  2.14it/s]\n",
            "                 Class     Images  Instances      Box(P          R      mAP50  mAP50-95): 100% 7/7 [00:04<00:00,  1.55it/s]\n",
            "                   all        212        753       0.91      0.861      0.925      0.515\n",
            "\n",
            "      Epoch    GPU_mem   box_loss   cls_loss   dfl_loss  Instances       Size\n",
            "      27/40      15.6G      1.397     0.8656      1.269         99        800: 100% 98/98 [00:46<00:00,  2.09it/s]\n",
            "                 Class     Images  Instances      Box(P          R      mAP50  mAP50-95): 100% 7/7 [00:04<00:00,  1.62it/s]\n",
            "                   all        212        753      0.918      0.881      0.935      0.508\n",
            "\n",
            "      Epoch    GPU_mem   box_loss   cls_loss   dfl_loss  Instances       Size\n",
            "      28/40      15.6G      1.368     0.8408      1.261         46        800: 100% 98/98 [00:45<00:00,  2.13it/s]\n",
            "                 Class     Images  Instances      Box(P          R      mAP50  mAP50-95): 100% 7/7 [00:04<00:00,  1.60it/s]\n",
            "                   all        212        753      0.905      0.877      0.922      0.509\n",
            "\n",
            "      Epoch    GPU_mem   box_loss   cls_loss   dfl_loss  Instances       Size\n",
            "      29/40      15.6G      1.341     0.8177      1.247         78        800: 100% 98/98 [00:46<00:00,  2.13it/s]\n",
            "                 Class     Images  Instances      Box(P          R      mAP50  mAP50-95): 100% 7/7 [00:04<00:00,  1.62it/s]\n",
            "                   all        212        753      0.944      0.869      0.934      0.516\n",
            "\n",
            "      Epoch    GPU_mem   box_loss   cls_loss   dfl_loss  Instances       Size\n",
            "      30/40      15.6G      1.341     0.8054      1.242         72        800: 100% 98/98 [00:46<00:00,  2.11it/s]\n",
            "                 Class     Images  Instances      Box(P          R      mAP50  mAP50-95): 100% 7/7 [00:04<00:00,  1.61it/s]\n",
            "                   all        212        753      0.917       0.87      0.917      0.516\n",
            "Closing dataloader mosaic\n",
            "\u001b[34m\u001b[1malbumentations: \u001b[0mBlur(p=0.01, blur_limit=(3, 7)), MedianBlur(p=0.01, blur_limit=(3, 7)), ToGray(p=0.01), CLAHE(p=0.01, clip_limit=(1, 4.0), tile_grid_size=(8, 8))\n",
            "\n",
            "      Epoch    GPU_mem   box_loss   cls_loss   dfl_loss  Instances       Size\n",
            "      31/40      15.6G      1.238     0.6738      1.267         34        800: 100% 98/98 [00:43<00:00,  2.27it/s]\n",
            "                 Class     Images  Instances      Box(P          R      mAP50  mAP50-95): 100% 7/7 [00:04<00:00,  1.57it/s]\n",
            "                   all        212        753      0.922      0.875      0.925      0.523\n",
            "\n",
            "      Epoch    GPU_mem   box_loss   cls_loss   dfl_loss  Instances       Size\n",
            "      32/40      15.6G      1.227     0.6582      1.246         40        800: 100% 98/98 [00:40<00:00,  2.41it/s]\n",
            "                 Class     Images  Instances      Box(P          R      mAP50  mAP50-95): 100% 7/7 [00:04<00:00,  1.55it/s]\n",
            "                   all        212        753      0.939      0.875      0.926      0.512\n",
            "\n",
            "      Epoch    GPU_mem   box_loss   cls_loss   dfl_loss  Instances       Size\n",
            "      33/40      15.6G      1.209     0.6431      1.248         29        800: 100% 98/98 [00:39<00:00,  2.48it/s]\n",
            "                 Class     Images  Instances      Box(P          R      mAP50  mAP50-95): 100% 7/7 [00:04<00:00,  1.63it/s]\n",
            "                   all        212        753      0.929      0.886      0.932      0.534\n",
            "\n",
            "      Epoch    GPU_mem   box_loss   cls_loss   dfl_loss  Instances       Size\n",
            "      34/40      15.6G       1.19     0.6358      1.242         42        800: 100% 98/98 [00:40<00:00,  2.40it/s]\n",
            "                 Class     Images  Instances      Box(P          R      mAP50  mAP50-95): 100% 7/7 [00:04<00:00,  1.62it/s]\n",
            "                   all        212        753       0.94      0.857       0.93      0.529\n",
            "\n",
            "      Epoch    GPU_mem   box_loss   cls_loss   dfl_loss  Instances       Size\n",
            "      35/40      15.6G      1.186     0.6197      1.232         33        800: 100% 98/98 [00:39<00:00,  2.47it/s]\n",
            "                 Class     Images  Instances      Box(P          R      mAP50  mAP50-95): 100% 7/7 [00:04<00:00,  1.59it/s]\n",
            "                   all        212        753      0.929      0.881      0.935      0.542\n",
            "\n",
            "      Epoch    GPU_mem   box_loss   cls_loss   dfl_loss  Instances       Size\n",
            "      36/40      15.6G      1.157     0.6041      1.207         37        800: 100% 98/98 [00:40<00:00,  2.42it/s]\n",
            "                 Class     Images  Instances      Box(P          R      mAP50  mAP50-95): 100% 7/7 [00:04<00:00,  1.56it/s]\n",
            "                   all        212        753      0.937      0.889      0.937      0.538\n",
            "\n",
            "      Epoch    GPU_mem   box_loss   cls_loss   dfl_loss  Instances       Size\n",
            "      37/40      15.6G      1.134     0.5801      1.204         47        800: 100% 98/98 [00:39<00:00,  2.47it/s]\n",
            "                 Class     Images  Instances      Box(P          R      mAP50  mAP50-95): 100% 7/7 [00:04<00:00,  1.64it/s]\n",
            "                   all        212        753       0.92      0.904       0.93      0.539\n",
            "\n",
            "      Epoch    GPU_mem   box_loss   cls_loss   dfl_loss  Instances       Size\n",
            "      38/40      15.6G      1.133     0.5701      1.192         38        800: 100% 98/98 [00:39<00:00,  2.46it/s]\n",
            "                 Class     Images  Instances      Box(P          R      mAP50  mAP50-95): 100% 7/7 [00:04<00:00,  1.61it/s]\n",
            "                   all        212        753      0.938      0.888      0.931      0.537\n",
            "\n",
            "      Epoch    GPU_mem   box_loss   cls_loss   dfl_loss  Instances       Size\n",
            "      39/40      15.6G      1.119     0.5606      1.196         42        800: 100% 98/98 [00:39<00:00,  2.47it/s]\n",
            "                 Class     Images  Instances      Box(P          R      mAP50  mAP50-95): 100% 7/7 [00:04<00:00,  1.58it/s]\n",
            "                   all        212        753      0.943      0.879      0.934      0.543\n",
            "\n",
            "      Epoch    GPU_mem   box_loss   cls_loss   dfl_loss  Instances       Size\n",
            "      40/40      15.6G      1.107      0.545      1.181         39        800: 100% 98/98 [00:39<00:00,  2.46it/s]\n",
            "                 Class     Images  Instances      Box(P          R      mAP50  mAP50-95): 100% 7/7 [00:07<00:00,  1.09s/it]\n",
            "                   all        212        753      0.921      0.904      0.939      0.546\n",
            "\n",
            "40 epochs completed in 0.578 hours.\n",
            "Optimizer stripped from runs/detect/train7/weights/last.pt, 87.7MB\n",
            "Optimizer stripped from runs/detect/train7/weights/best.pt, 87.7MB\n",
            "\n",
            "Validating runs/detect/train7/weights/best.pt...\n",
            "Ultralytics YOLOv8.0.20 🚀 Python-3.10.12 torch-2.2.1+cu121 CUDA:0 (Tesla V100-SXM2-16GB, 16151MiB)\n",
            "Model summary (fused): 268 layers, 43607379 parameters, 0 gradients, 164.8 GFLOPs\n",
            "                 Class     Images  Instances      Box(P          R      mAP50  mAP50-95): 100% 7/7 [00:07<00:00,  1.11s/it]\n",
            "                   all        212        753      0.922      0.904      0.939      0.546\n",
            "Speed: 0.2ms pre-process, 6.6ms inference, 0.0ms loss, 15.4ms post-process per image\n",
            "Results saved to \u001b[1mruns/detect/train7\u001b[0m\n"
          ]
        }
      ]
    },
    {
      "cell_type": "markdown",
      "source": [],
      "metadata": {
        "id": "mqvBcqlDOOr7"
      }
    },
    {
      "cell_type": "markdown",
      "metadata": {
        "id": "6ODk1VTlevxn"
      },
      "source": [
        "## Validate Custom Model"
      ]
    },
    {
      "cell_type": "code",
      "execution_count": null,
      "metadata": {
        "colab": {
          "base_uri": "https://localhost:8080/"
        },
        "id": "YpyuwrNlXc1P",
        "outputId": "cb45db04-d031-4164-aa43-8a9e41b3b234"
      },
      "outputs": [
        {
          "output_type": "stream",
          "name": "stdout",
          "text": [
            "2024-03-17 21:34:00.416653: E external/local_xla/xla/stream_executor/cuda/cuda_dnn.cc:9261] Unable to register cuDNN factory: Attempting to register factory for plugin cuDNN when one has already been registered\n",
            "2024-03-17 21:34:00.416699: E external/local_xla/xla/stream_executor/cuda/cuda_fft.cc:607] Unable to register cuFFT factory: Attempting to register factory for plugin cuFFT when one has already been registered\n",
            "2024-03-17 21:34:00.418009: E external/local_xla/xla/stream_executor/cuda/cuda_blas.cc:1515] Unable to register cuBLAS factory: Attempting to register factory for plugin cuBLAS when one has already been registered\n",
            "2024-03-17 21:34:01.483405: W tensorflow/compiler/tf2tensorrt/utils/py_utils.cc:38] TF-TRT Warning: Could not find TensorRT\n",
            "Ultralytics YOLOv8.0.20 🚀 Python-3.10.12 torch-2.2.1+cu121 CUDA:0 (Tesla V100-SXM2-16GB, 16151MiB)\n",
            "Model summary (fused): 268 layers, 43607379 parameters, 0 gradients, 164.8 GFLOPs\n",
            "Downloading https://ultralytics.com/assets/Arial.ttf to /root/.config/Ultralytics/Arial.ttf...\n",
            "100% 755k/755k [00:00<00:00, 5.15MB/s]\n",
            "\u001b[34m\u001b[1mval: \u001b[0mScanning /content/drive/.shortcut-targets-by-id/1TeS9AqYaWXZcW44HCa4keGs1m55SzRs_/YOLOv87/data/valid/labels.cache... 212 images, 0 backgrounds, 0 corrupt: 100% 212/212 [00:00<?, ?it/s]\n",
            "                 Class     Images  Instances      Box(P          R      mAP50  mAP50-95): 100% 14/14 [00:21<00:00,  1.57s/it]\n",
            "                   all        212        753      0.922      0.904      0.938      0.545\n",
            "Speed: 1.6ms pre-process, 15.9ms inference, 0.1ms loss, 14.1ms post-process per image\n"
          ]
        }
      ],
      "source": [
        "!yolo task=detect mode=val model=/content/drive/MyDrive/YOLOv87/runs/detect/train7/weights/best.pt data=data.yaml"
      ]
    },
    {
      "cell_type": "markdown",
      "metadata": {
        "id": "i4eASbcWkQBq"
      },
      "source": [
        "## Inference with Custom Model"
      ]
    },
    {
      "cell_type": "code",
      "execution_count": null,
      "metadata": {
        "colab": {
          "base_uri": "https://localhost:8080/"
        },
        "id": "Wjc1ctZykYuf",
        "outputId": "fe8716c4-4881-4ade-949f-2d5909443c0e"
      },
      "outputs": [
        {
          "output_type": "stream",
          "name": "stdout",
          "text": [
            "2024-03-17 21:35:13.615359: E external/local_xla/xla/stream_executor/cuda/cuda_dnn.cc:9261] Unable to register cuDNN factory: Attempting to register factory for plugin cuDNN when one has already been registered\n",
            "2024-03-17 21:35:13.615418: E external/local_xla/xla/stream_executor/cuda/cuda_fft.cc:607] Unable to register cuFFT factory: Attempting to register factory for plugin cuFFT when one has already been registered\n",
            "2024-03-17 21:35:13.616731: E external/local_xla/xla/stream_executor/cuda/cuda_blas.cc:1515] Unable to register cuBLAS factory: Attempting to register factory for plugin cuBLAS when one has already been registered\n",
            "2024-03-17 21:35:14.643076: W tensorflow/compiler/tf2tensorrt/utils/py_utils.cc:38] TF-TRT Warning: Could not find TensorRT\n",
            "Ultralytics YOLOv8.0.20 🚀 Python-3.10.12 torch-2.2.1+cu121 CUDA:0 (Tesla V100-SXM2-16GB, 16151MiB)\n",
            "Model summary (fused): 268 layers, 43607379 parameters, 0 gradients, 164.8 GFLOPs\n",
            "image 1/86 /content/drive/.shortcut-targets-by-id/1TeS9AqYaWXZcW44HCa4keGs1m55SzRs_/YOLOv87/data/test/images/01-08-2022__01-07-22PM_jpg.rf.244fd0dd246700f79ffb31ba22bd1970.jpg: 800x800 1 person, 19.9ms\n",
            "image 2/86 /content/drive/.shortcut-targets-by-id/1TeS9AqYaWXZcW44HCa4keGs1m55SzRs_/YOLOv87/data/test/images/01-08-2022__01-34-02PM_jpg.rf.1b39eb9c46ef16852ee249c08bea0368.jpg: 800x800 1 person, 20.0ms\n",
            "image 3/86 /content/drive/.shortcut-targets-by-id/1TeS9AqYaWXZcW44HCa4keGs1m55SzRs_/YOLOv87/data/test/images/01-08-2022__01-36-27PM_jpg.rf.73f4fec1ac5e986d576b040bfea17236.jpg: 800x800 5 persons, 20.0ms\n",
            "image 4/86 /content/drive/.shortcut-targets-by-id/1TeS9AqYaWXZcW44HCa4keGs1m55SzRs_/YOLOv87/data/test/images/01-08-2022__01-42-57PM_jpg.rf.9b653f22494a31352bd1277b3eafa39a.jpg: 800x800 1 person, 20.0ms\n",
            "image 5/86 /content/drive/.shortcut-targets-by-id/1TeS9AqYaWXZcW44HCa4keGs1m55SzRs_/YOLOv87/data/test/images/01-08-2022__01-45-35PM_jpg.rf.26e67e009999dbcb8bbb00447b0261f5.jpg: 800x800 1 person, 20.0ms\n",
            "image 6/86 /content/drive/.shortcut-targets-by-id/1TeS9AqYaWXZcW44HCa4keGs1m55SzRs_/YOLOv87/data/test/images/01-08-2022__01-47-07PM_jpg.rf.303ad784820ed0ff0c927dede04f8c31.jpg: 800x800 6 persons, 20.0ms\n",
            "image 7/86 /content/drive/.shortcut-targets-by-id/1TeS9AqYaWXZcW44HCa4keGs1m55SzRs_/YOLOv87/data/test/images/01-08-2022__01-48-22PM_jpg.rf.005668e2dd55d6c2db40e76072ea5592.jpg: 800x800 1 person, 21.8ms\n",
            "image 8/86 /content/drive/.shortcut-targets-by-id/1TeS9AqYaWXZcW44HCa4keGs1m55SzRs_/YOLOv87/data/test/images/01-08-2022__01-55-29PM_jpg.rf.2a591dd76900632499b3fafdab3c33c4.jpg: 800x800 1 person, 21.7ms\n",
            "image 9/86 /content/drive/.shortcut-targets-by-id/1TeS9AqYaWXZcW44HCa4keGs1m55SzRs_/YOLOv87/data/test/images/01-08-2022__02-02-26PM_jpg.rf.6da23063d880dbb37e05e5594fbdcb5c.jpg: 800x800 2 persons, 21.8ms\n",
            "image 10/86 /content/drive/.shortcut-targets-by-id/1TeS9AqYaWXZcW44HCa4keGs1m55SzRs_/YOLOv87/data/test/images/01-08-2022__02-03-59PM_jpg.rf.0edefe5993b36294f7caa683a4b5ce3c.jpg: 800x800 6 persons, 21.8ms\n",
            "image 11/86 /content/drive/.shortcut-targets-by-id/1TeS9AqYaWXZcW44HCa4keGs1m55SzRs_/YOLOv87/data/test/images/01-08-2022__02-21-44PM_jpg.rf.3968fbab8308f4c20f4163c4702ca00e.jpg: 800x800 6 persons, 21.7ms\n",
            "image 12/86 /content/drive/.shortcut-targets-by-id/1TeS9AqYaWXZcW44HCa4keGs1m55SzRs_/YOLOv87/data/test/images/01-08-2022__02-22-20PM_jpg.rf.aeb11bb206625cbb1a947e2ddbc65469.jpg: 800x800 2 persons, 21.8ms\n",
            "image 13/86 /content/drive/.shortcut-targets-by-id/1TeS9AqYaWXZcW44HCa4keGs1m55SzRs_/YOLOv87/data/test/images/01-08-2022__02-48-23PM_jpg.rf.253f1fdf5078e439bd4b5628d0648b51.jpg: 800x800 1 person, 21.8ms\n",
            "image 14/86 /content/drive/.shortcut-targets-by-id/1TeS9AqYaWXZcW44HCa4keGs1m55SzRs_/YOLOv87/data/test/images/01-08-2022__02-51-22PM_jpg.rf.e483bde33cb6f798aaf6beba83a5dec8.jpg: 800x800 2 persons, 21.8ms\n",
            "image 15/86 /content/drive/.shortcut-targets-by-id/1TeS9AqYaWXZcW44HCa4keGs1m55SzRs_/YOLOv87/data/test/images/01-08-2022__02-51-39PM_jpg.rf.63ba8c8f29abb1282230f79b225b204e.jpg: 800x800 2 persons, 21.8ms\n",
            "image 16/86 /content/drive/.shortcut-targets-by-id/1TeS9AqYaWXZcW44HCa4keGs1m55SzRs_/YOLOv87/data/test/images/01-08-2022__02-58-54PM_jpg.rf.3035ed6fca97a50de32035c80435f6e6.jpg: 800x800 5 persons, 21.7ms\n",
            "image 17/86 /content/drive/.shortcut-targets-by-id/1TeS9AqYaWXZcW44HCa4keGs1m55SzRs_/YOLOv87/data/test/images/01-08-2022__03-00-17PM_jpg.rf.1304f0f2c64752144cdde1b852da0208.jpg: 800x800 2 persons, 21.7ms\n",
            "image 18/86 /content/drive/.shortcut-targets-by-id/1TeS9AqYaWXZcW44HCa4keGs1m55SzRs_/YOLOv87/data/test/images/01-08-2022__03-13-13PM_jpg.rf.0192bea17e6dbcecfed6943d241a8e9a.jpg: 800x800 2 persons, 21.8ms\n",
            "image 19/86 /content/drive/.shortcut-targets-by-id/1TeS9AqYaWXZcW44HCa4keGs1m55SzRs_/YOLOv87/data/test/images/01-08-2022__03-25-18PM_jpg.rf.3298af7ceee92d918454b84a20d62b4f.jpg: 800x800 2 persons, 21.8ms\n",
            "image 20/86 /content/drive/.shortcut-targets-by-id/1TeS9AqYaWXZcW44HCa4keGs1m55SzRs_/YOLOv87/data/test/images/01-08-2022__03-44-57PM_jpg.rf.dfbf26ccffa7b395bf2d10ab3a56a664.jpg: 800x800 4 persons, 21.8ms\n",
            "image 21/86 /content/drive/.shortcut-targets-by-id/1TeS9AqYaWXZcW44HCa4keGs1m55SzRs_/YOLOv87/data/test/images/01-08-2022__03-48-59PM_jpg.rf.d820ab43481d886b70f7d6c9a6fc7205.jpg: 800x800 2 persons, 21.8ms\n",
            "image 22/86 /content/drive/.shortcut-targets-by-id/1TeS9AqYaWXZcW44HCa4keGs1m55SzRs_/YOLOv87/data/test/images/01-08-2022__03-53-54PM_jpg.rf.2515372a053388abeaece3a81ccded05.jpg: 800x800 2 persons, 21.8ms\n",
            "image 23/86 /content/drive/.shortcut-targets-by-id/1TeS9AqYaWXZcW44HCa4keGs1m55SzRs_/YOLOv87/data/test/images/01-08-2022__03-59-16PM_jpg.rf.5304f92094cc846acdc42bd9fc008098.jpg: 800x800 2 persons, 21.7ms\n",
            "image 24/86 /content/drive/.shortcut-targets-by-id/1TeS9AqYaWXZcW44HCa4keGs1m55SzRs_/YOLOv87/data/test/images/01-08-2022__04-08-03PM_jpg.rf.292d56e5aa350c472e3a0ae496d1dec3.jpg: 800x800 4 persons, 21.7ms\n",
            "image 25/86 /content/drive/.shortcut-targets-by-id/1TeS9AqYaWXZcW44HCa4keGs1m55SzRs_/YOLOv87/data/test/images/01-08-2022__04-08-57PM_jpg.rf.62005b87b4396b9a8bbd17543a59365d.jpg: 800x800 8 persons, 21.8ms\n",
            "image 26/86 /content/drive/.shortcut-targets-by-id/1TeS9AqYaWXZcW44HCa4keGs1m55SzRs_/YOLOv87/data/test/images/01-08-2022__04-09-50PM_jpg.rf.a9314c7c2d5ced8ad635298de94f7dd6.jpg: 800x800 5 persons, 21.8ms\n",
            "image 27/86 /content/drive/.shortcut-targets-by-id/1TeS9AqYaWXZcW44HCa4keGs1m55SzRs_/YOLOv87/data/test/images/01-08-2022__04-15-00PM_jpg.rf.0bbff7753d7305b86ee71c897cc5f56a.jpg: 800x800 1 person, 21.7ms\n",
            "image 28/86 /content/drive/.shortcut-targets-by-id/1TeS9AqYaWXZcW44HCa4keGs1m55SzRs_/YOLOv87/data/test/images/01-08-2022__04-17-29PM_jpg.rf.e8bcff231791313b618f4f76d9e6011e.jpg: 800x800 1 person, 21.8ms\n",
            "image 29/86 /content/drive/.shortcut-targets-by-id/1TeS9AqYaWXZcW44HCa4keGs1m55SzRs_/YOLOv87/data/test/images/01-08-2022__04-20-36PM_jpg.rf.a70028a7e09eaac5f0032a769e4b1192.jpg: 800x800 1 person, 21.8ms\n",
            "image 30/86 /content/drive/.shortcut-targets-by-id/1TeS9AqYaWXZcW44HCa4keGs1m55SzRs_/YOLOv87/data/test/images/01-08-2022__04-25-57PM_jpg.rf.d2fb66fee537b15b2ae06f0db86a7585.jpg: 800x800 1 person, 21.8ms\n",
            "image 31/86 /content/drive/.shortcut-targets-by-id/1TeS9AqYaWXZcW44HCa4keGs1m55SzRs_/YOLOv87/data/test/images/01-08-2022__04-30-00PM_jpg.rf.2133c3bed004f2ecdd8777587739207c.jpg: 800x800 7 persons, 21.8ms\n",
            "image 32/86 /content/drive/.shortcut-targets-by-id/1TeS9AqYaWXZcW44HCa4keGs1m55SzRs_/YOLOv87/data/test/images/01-08-2022__08-34-13AM_jpg.rf.cd213233de977d99760bda0cea264198.jpg: 800x800 4 persons, 21.7ms\n",
            "image 33/86 /content/drive/.shortcut-targets-by-id/1TeS9AqYaWXZcW44HCa4keGs1m55SzRs_/YOLOv87/data/test/images/01-08-2022__08-45-01AM_jpg.rf.b3a633c993dd6fc74d1bd4b010ee9efc.jpg: 800x800 4 persons, 21.8ms\n",
            "image 34/86 /content/drive/.shortcut-targets-by-id/1TeS9AqYaWXZcW44HCa4keGs1m55SzRs_/YOLOv87/data/test/images/01-08-2022__09-11-15AM_jpg.rf.1b7c113e10b2532b5e29b629d8db639c.jpg: 800x800 4 persons, 21.8ms\n",
            "image 35/86 /content/drive/.shortcut-targets-by-id/1TeS9AqYaWXZcW44HCa4keGs1m55SzRs_/YOLOv87/data/test/images/01-08-2022__09-34-23AM_jpg.rf.54a5c4eb1e1acad0a8a7339a9895a021.jpg: 800x800 1 person, 21.8ms\n",
            "image 36/86 /content/drive/.shortcut-targets-by-id/1TeS9AqYaWXZcW44HCa4keGs1m55SzRs_/YOLOv87/data/test/images/01-08-2022__09-56-05AM_jpg.rf.2e12c598c7967c70e4edb73293f9907d.jpg: 800x800 1 person, 21.7ms\n",
            "image 37/86 /content/drive/.shortcut-targets-by-id/1TeS9AqYaWXZcW44HCa4keGs1m55SzRs_/YOLOv87/data/test/images/01-08-2022__10-03-52AM_jpg.rf.e2df11358dd69e37329e182ba21adc09.jpg: 800x800 2 persons, 21.7ms\n",
            "image 38/86 /content/drive/.shortcut-targets-by-id/1TeS9AqYaWXZcW44HCa4keGs1m55SzRs_/YOLOv87/data/test/images/01-08-2022__10-08-42AM_jpg.rf.6a6542e150881adb1e0b6c967ec494c5.jpg: 800x800 5 persons, 21.7ms\n",
            "image 39/86 /content/drive/.shortcut-targets-by-id/1TeS9AqYaWXZcW44HCa4keGs1m55SzRs_/YOLOv87/data/test/images/01-08-2022__10-16-24AM_jpg.rf.8d89c9f1603f058960a47705cc051cc2.jpg: 800x800 4 persons, 21.7ms\n",
            "image 40/86 /content/drive/.shortcut-targets-by-id/1TeS9AqYaWXZcW44HCa4keGs1m55SzRs_/YOLOv87/data/test/images/01-08-2022__10-26-48AM_jpg.rf.85485a37cb7f6c7928313ce0cc1441ac.jpg: 800x800 2 persons, 21.7ms\n",
            "image 41/86 /content/drive/.shortcut-targets-by-id/1TeS9AqYaWXZcW44HCa4keGs1m55SzRs_/YOLOv87/data/test/images/01-08-2022__10-38-58AM_jpg.rf.d84e615b971ab19d2ff71b08667cc18d.jpg: 800x800 2 persons, 21.8ms\n",
            "image 42/86 /content/drive/.shortcut-targets-by-id/1TeS9AqYaWXZcW44HCa4keGs1m55SzRs_/YOLOv87/data/test/images/01-08-2022__10-43-50AM_jpg.rf.185f1f60f1873daa3ea8b9bf68aaeb8d.jpg: 800x800 3 persons, 21.7ms\n",
            "image 43/86 /content/drive/.shortcut-targets-by-id/1TeS9AqYaWXZcW44HCa4keGs1m55SzRs_/YOLOv87/data/test/images/01-08-2022__10-48-43AM_jpg.rf.4f651aff673fe625bf4b9cce856d30d4.jpg: 800x800 1 person, 21.8ms\n",
            "image 44/86 /content/drive/.shortcut-targets-by-id/1TeS9AqYaWXZcW44HCa4keGs1m55SzRs_/YOLOv87/data/test/images/01-08-2022__10-51-49AM_jpg.rf.e820bd432a813c34bba13dbf67ca5a3a.jpg: 800x800 2 persons, 21.7ms\n",
            "image 45/86 /content/drive/.shortcut-targets-by-id/1TeS9AqYaWXZcW44HCa4keGs1m55SzRs_/YOLOv87/data/test/images/01-08-2022__10-54-27AM_jpg.rf.023864476b1ccf85bc7420c42cdbaafe.jpg: 800x800 21.7ms\n",
            "image 46/86 /content/drive/.shortcut-targets-by-id/1TeS9AqYaWXZcW44HCa4keGs1m55SzRs_/YOLOv87/data/test/images/01-08-2022__11-05-24AM_jpg.rf.07e682578bfdeea3e9cdb7596c386ad1.jpg: 800x800 5 persons, 21.7ms\n",
            "image 47/86 /content/drive/.shortcut-targets-by-id/1TeS9AqYaWXZcW44HCa4keGs1m55SzRs_/YOLOv87/data/test/images/01-08-2022__11-21-36AM_jpg.rf.ebce7aa2e23e4e164b36dd42ce0f0a38.jpg: 800x800 4 persons, 21.7ms\n",
            "image 48/86 /content/drive/.shortcut-targets-by-id/1TeS9AqYaWXZcW44HCa4keGs1m55SzRs_/YOLOv87/data/test/images/01-08-2022__11-31-14AM_jpg.rf.e3c4a72373ae0826f569d838df1ebdef.jpg: 800x800 4 persons, 21.8ms\n",
            "image 49/86 /content/drive/.shortcut-targets-by-id/1TeS9AqYaWXZcW44HCa4keGs1m55SzRs_/YOLOv87/data/test/images/01-08-2022__11-36-41AM_jpg.rf.14d8879471d870fb0d64d19b7aa3e5ba.jpg: 800x800 1 person, 21.7ms\n",
            "image 50/86 /content/drive/.shortcut-targets-by-id/1TeS9AqYaWXZcW44HCa4keGs1m55SzRs_/YOLOv87/data/test/images/01-08-2022__11-40-23AM_jpg.rf.328940e8e29f29d4f7a97119b1f0a045.jpg: 800x800 4 persons, 21.7ms\n",
            "image 51/86 /content/drive/.shortcut-targets-by-id/1TeS9AqYaWXZcW44HCa4keGs1m55SzRs_/YOLOv87/data/test/images/01-08-2022__12-00-21PM_jpg.rf.5ebf1c350bafae7fd4d15a9f61078558.jpg: 800x800 4 persons, 21.7ms\n",
            "image 52/86 /content/drive/.shortcut-targets-by-id/1TeS9AqYaWXZcW44HCa4keGs1m55SzRs_/YOLOv87/data/test/images/01-08-2022__12-00-22PM_jpg.rf.8d8bc8ce9e0f1ab98048455b3573545e.jpg: 800x800 4 persons, 21.7ms\n",
            "image 53/86 /content/drive/.shortcut-targets-by-id/1TeS9AqYaWXZcW44HCa4keGs1m55SzRs_/YOLOv87/data/test/images/01-08-2022__12-15-06PM_jpg.rf.95de341b67a37f2e416f598735442b93.jpg: 800x800 2 persons, 21.7ms\n",
            "image 54/86 /content/drive/.shortcut-targets-by-id/1TeS9AqYaWXZcW44HCa4keGs1m55SzRs_/YOLOv87/data/test/images/01-08-2022__12-22-19PM_jpg.rf.59375a75257b8a8ea15e349be4d062c8.jpg: 800x800 3 persons, 21.8ms\n",
            "image 55/86 /content/drive/.shortcut-targets-by-id/1TeS9AqYaWXZcW44HCa4keGs1m55SzRs_/YOLOv87/data/test/images/01-08-2022__12-22-23PM_jpg.rf.b5cdd2f75a1b19cc2b60332e19f2ae07.jpg: 800x800 5 persons, 21.7ms\n",
            "image 56/86 /content/drive/.shortcut-targets-by-id/1TeS9AqYaWXZcW44HCa4keGs1m55SzRs_/YOLOv87/data/test/images/01-08-2022__12-22-40PM_jpg.rf.7b3d926170934f69f0dbeead5f7cc0f3.jpg: 800x800 1 person, 21.8ms\n",
            "image 57/86 /content/drive/.shortcut-targets-by-id/1TeS9AqYaWXZcW44HCa4keGs1m55SzRs_/YOLOv87/data/test/images/01-08-2022__12-29-02PM_jpg.rf.312ea7b955a16976a90ea32042d80b7e.jpg: 800x800 1 person, 21.8ms\n",
            "image 58/86 /content/drive/.shortcut-targets-by-id/1TeS9AqYaWXZcW44HCa4keGs1m55SzRs_/YOLOv87/data/test/images/01-08-2022__12-35-32PM_jpg.rf.f46292a75d45ece18f1ca61018c28daf.jpg: 800x800 7 persons, 21.8ms\n",
            "image 59/86 /content/drive/.shortcut-targets-by-id/1TeS9AqYaWXZcW44HCa4keGs1m55SzRs_/YOLOv87/data/test/images/01-08-2022__12-38-37PM_jpg.rf.11c95ecd00d77c3c42691878a47fc78d.jpg: 800x800 7 persons, 21.8ms\n",
            "image 60/86 /content/drive/.shortcut-targets-by-id/1TeS9AqYaWXZcW44HCa4keGs1m55SzRs_/YOLOv87/data/test/images/01-08-2022__12-39-33PM_jpg.rf.b29b6bd941cca863eba4e15d491a7309.jpg: 800x800 1 person, 21.8ms\n",
            "image 61/86 /content/drive/.shortcut-targets-by-id/1TeS9AqYaWXZcW44HCa4keGs1m55SzRs_/YOLOv87/data/test/images/01-08-2022__12-55-00PM_jpg.rf.4c4356afd9285aafe1adbf17fb4dbe3a.jpg: 800x800 7 persons, 21.8ms\n",
            "image 62/86 /content/drive/.shortcut-targets-by-id/1TeS9AqYaWXZcW44HCa4keGs1m55SzRs_/YOLOv87/data/test/images/01-08-2022__12-58-10PM_jpg.rf.94f0a07a34a415eee299be28ae25cdb0.jpg: 800x800 5 persons, 21.7ms\n",
            "image 63/86 /content/drive/.shortcut-targets-by-id/1TeS9AqYaWXZcW44HCa4keGs1m55SzRs_/YOLOv87/data/test/images/0c6304f9-a4f1-4a66-b237-24b94b41dec3_jpg.rf.9b9c86cbfc0b3e7319c7eaafb07a6bc2.jpg: 800x800 1 person, 21.7ms\n",
            "image 64/86 /content/drive/.shortcut-targets-by-id/1TeS9AqYaWXZcW44HCa4keGs1m55SzRs_/YOLOv87/data/test/images/133a8bfc-72ed-45fa-90c1-118c61bf2d7c_jpg.rf.f333afa9c0f1c23535d22d4a12666238.jpg: 800x800 6 persons, 21.7ms\n",
            "image 65/86 /content/drive/.shortcut-targets-by-id/1TeS9AqYaWXZcW44HCa4keGs1m55SzRs_/YOLOv87/data/test/images/19247c13-ea95-41e4-8caa-5f7027d2e9ff_jpg.rf.e7015688b9ae3f71a21dd747f359d430.jpg: 800x800 2 persons, 21.7ms\n",
            "image 66/86 /content/drive/.shortcut-targets-by-id/1TeS9AqYaWXZcW44HCa4keGs1m55SzRs_/YOLOv87/data/test/images/1dc1e8ee-2e7f-4200-b550-aff9f1efbe74_jpg.rf.28e1477cfe21d4216b3a32e98e15f7f4.jpg: 800x800 2 persons, 21.7ms\n",
            "image 67/86 /content/drive/.shortcut-targets-by-id/1TeS9AqYaWXZcW44HCa4keGs1m55SzRs_/YOLOv87/data/test/images/2e906246-7e1c-4131-9b27-a6fbe0cd6d91_jpg.rf.2980ab838239ce54755e0cd1861f05d7.jpg: 800x800 21.7ms\n",
            "image 68/86 /content/drive/.shortcut-targets-by-id/1TeS9AqYaWXZcW44HCa4keGs1m55SzRs_/YOLOv87/data/test/images/2f74d9b5-b59d-498d-a1e6-4cdea2381dae_jpg.rf.8050e32994605a8db6bdf557fbfac334.jpg: 800x800 2 persons, 21.7ms\n",
            "image 69/86 /content/drive/.shortcut-targets-by-id/1TeS9AqYaWXZcW44HCa4keGs1m55SzRs_/YOLOv87/data/test/images/31c576c6-d8df-46c6-9023-6d1f373665ea_jpg.rf.2857efcd572072c270f3a9396bb50714.jpg: 800x800 4 persons, 21.8ms\n",
            "image 70/86 /content/drive/.shortcut-targets-by-id/1TeS9AqYaWXZcW44HCa4keGs1m55SzRs_/YOLOv87/data/test/images/33eab164-bce0-4b1b-a694-eb8e60b4d8df_jpg.rf.3031e40e73aca8c40c7cf11ebaf9de7c.jpg: 800x800 5 persons, 21.7ms\n",
            "image 71/86 /content/drive/.shortcut-targets-by-id/1TeS9AqYaWXZcW44HCa4keGs1m55SzRs_/YOLOv87/data/test/images/386b90cf-d019-49f6-901f-09673aa0e0e4_jpg.rf.a84fbf3b4055c5ca3a0464725745ff78.jpg: 800x800 6 persons, 21.7ms\n",
            "image 72/86 /content/drive/.shortcut-targets-by-id/1TeS9AqYaWXZcW44HCa4keGs1m55SzRs_/YOLOv87/data/test/images/38e26670-40be-417e-9c46-87e8b42d309c_jpg.rf.46805467b198dc148732cd12f90830e5.jpg: 800x800 5 persons, 21.7ms\n",
            "image 73/86 /content/drive/.shortcut-targets-by-id/1TeS9AqYaWXZcW44HCa4keGs1m55SzRs_/YOLOv87/data/test/images/3c393237-6b5a-4e46-98ac-832072cd992c_jpg.rf.610069318a92981e0f079d999e81d164.jpg: 800x800 21.8ms\n",
            "image 74/86 /content/drive/.shortcut-targets-by-id/1TeS9AqYaWXZcW44HCa4keGs1m55SzRs_/YOLOv87/data/test/images/3f62d1e0-dc04-4f12-91d0-f6145c3532d5_jpg.rf.2a310304ed4bd8dad26c7866d9820996.jpg: 800x800 4 persons, 21.7ms\n",
            "image 75/86 /content/drive/.shortcut-targets-by-id/1TeS9AqYaWXZcW44HCa4keGs1m55SzRs_/YOLOv87/data/test/images/4169b70c-8378-4b1d-84c7-d3d90530a3ac_jpg.rf.44bf8e529facd7989a89f9c49d27fd0f.jpg: 800x800 5 persons, 21.8ms\n",
            "image 76/86 /content/drive/.shortcut-targets-by-id/1TeS9AqYaWXZcW44HCa4keGs1m55SzRs_/YOLOv87/data/test/images/48750d75-8f61-452a-9511-83f2087de3d9_jpg.rf.e84678879b3f3da86ad8ed6282acf3a8.jpg: 800x800 1 person, 21.8ms\n",
            "image 77/86 /content/drive/.shortcut-targets-by-id/1TeS9AqYaWXZcW44HCa4keGs1m55SzRs_/YOLOv87/data/test/images/75d49d0b-691f-43f1-977f-6a13c66957dc_jpg.rf.f61d6fb1854a2809d7d51cd01ffc8479.jpg: 800x800 2 persons, 21.7ms\n",
            "image 78/86 /content/drive/.shortcut-targets-by-id/1TeS9AqYaWXZcW44HCa4keGs1m55SzRs_/YOLOv87/data/test/images/93b71e05-97a5-4397-b533-64d9260d31a7_jpg.rf.9b2e9d2fc63e9293d233af60ee609bd3.jpg: 800x800 4 persons, 21.7ms\n",
            "image 79/86 /content/drive/.shortcut-targets-by-id/1TeS9AqYaWXZcW44HCa4keGs1m55SzRs_/YOLOv87/data/test/images/ch59_20220421000033_jpg.rf.dca74d838a29ca89a44e6fa66477bb47.jpg: 800x800 2 persons, 21.7ms\n",
            "image 80/86 /content/drive/.shortcut-targets-by-id/1TeS9AqYaWXZcW44HCa4keGs1m55SzRs_/YOLOv87/data/test/images/ch59_20220421082729_jpg.rf.e3416b3fff0c36017500d0f47cfa94ab.jpg: 800x800 6 persons, 21.7ms\n",
            "image 81/86 /content/drive/.shortcut-targets-by-id/1TeS9AqYaWXZcW44HCa4keGs1m55SzRs_/YOLOv87/data/test/images/d9624e4c-b0fb-4af6-bccb-87f6920cb6da_jpg.rf.90937c403c5d76dbb2a59de127fa0ab5.jpg: 800x800 3 persons, 21.8ms\n",
            "image 82/86 /content/drive/.shortcut-targets-by-id/1TeS9AqYaWXZcW44HCa4keGs1m55SzRs_/YOLOv87/data/test/images/e01a31b7-dce8-4f30-b4f6-8370a6068023_jpg.rf.41247e1c8ac818f267b2ee8f96a4081e.jpg: 800x800 2 persons, 21.7ms\n",
            "image 83/86 /content/drive/.shortcut-targets-by-id/1TeS9AqYaWXZcW44HCa4keGs1m55SzRs_/YOLOv87/data/test/images/e01aaa92-0de5-42c1-b0d2-15dce38e20ab_jpg.rf.21290241187b7d4cd8dcffa59e595618.jpg: 800x800 3 persons, 21.7ms\n",
            "image 84/86 /content/drive/.shortcut-targets-by-id/1TeS9AqYaWXZcW44HCa4keGs1m55SzRs_/YOLOv87/data/test/images/e2a9906b-3f3c-4dca-85f5-652e3dae1d9a_jpg.rf.4dea14204b7544b2d285a8057f5b43bd.jpg: 800x800 6 persons, 21.7ms\n",
            "image 85/86 /content/drive/.shortcut-targets-by-id/1TeS9AqYaWXZcW44HCa4keGs1m55SzRs_/YOLOv87/data/test/images/e4f52658-4ad3-4982-a684-46bba2995708_jpg.rf.47ced2ba651228c919140b16d89a7201.jpg: 800x800 7 persons, 21.9ms\n",
            "image 86/86 /content/drive/.shortcut-targets-by-id/1TeS9AqYaWXZcW44HCa4keGs1m55SzRs_/YOLOv87/data/test/images/f98ac8d9-e80f-4489-ae0d-f4cbf37d4da5_jpg.rf.3e83abf1e9f5470ed5fd630fe06b1752.jpg: 800x800 5 persons, 21.7ms\n",
            "Speed: 0.8ms pre-process, 21.6ms inference, 8.1ms postprocess per image at shape (1, 3, 800, 800)\n"
          ]
        }
      ],
      "source": [
        "!yolo task=detect mode=predict model=/content/drive/MyDrive/YOLOv87/runs/detect/train7/weights/best.pt  conf=0.25 source=/content/drive/MyDrive/YOLOv87/data/test/images"
      ]
    },
    {
      "cell_type": "code",
      "execution_count": null,
      "metadata": {
        "id": "c6B9DiTMNYeO"
      },
      "outputs": [],
      "source": []
    },
    {
      "cell_type": "markdown",
      "metadata": {
        "id": "tALgU2PXJXkz"
      },
      "source": []
    },
    {
      "cell_type": "markdown",
      "metadata": {
        "id": "idTnQXJNS500"
      },
      "source": []
    },
    {
      "cell_type": "markdown",
      "metadata": {
        "id": "mEYIo95n-I0S"
      },
      "source": [
        "**NOTE:** Let's take a look at few results."
      ]
    },
    {
      "cell_type": "code",
      "execution_count": null,
      "metadata": {
        "id": "T46hQ3FrdxJ3"
      },
      "outputs": [],
      "source": []
    }
  ],
  "metadata": {
    "accelerator": "GPU",
    "colab": {
      "gpuType": "V100",
      "machine_shape": "hm",
      "provenance": [],
      "include_colab_link": true
    },
    "kernelspec": {
      "display_name": "Python 3",
      "name": "python3"
    },
    "language_info": {
      "name": "python"
    }
  },
  "nbformat": 4,
  "nbformat_minor": 0
}